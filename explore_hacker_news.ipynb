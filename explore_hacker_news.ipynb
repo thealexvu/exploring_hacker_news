{
 "cells": [
  {
   "cell_type": "markdown",
   "id": "ca6a4260-814e-4166-941a-b9067fecb462",
   "metadata": {},
   "source": [
    "# Exploring Hacker News Posts\n",
    "\n",
    "Hacker News is a forum website hosted by the startup incubator Y Combinator, where user-submitted stories (known as \"posts\") receive votes and comments, similar to reddit. Hacker News is an extremely popular online destination for technology enthusiasts and budding founders, and posts that make it to the top of the Hacker News listings can get hundreds of thousands of visitors as a result.\n",
    "\n",
    "With a base of highly-technical users, Hacker News can often become a home for eye-opening discussion on a range of topics. Users who post original content can benefit greatly if posting at a time when the most users are online, or when the most eyeballs are on the page.\n",
    "\n",
    "We're specifically interested in posts with titles that begin with either `Ask HN` or `Show HN`. Users submit `Ask HN` posts to ask the Hacker News community a specific question. Likewise, users submit `Show HN` posts to show the Hacker News community a project, product, or just something interesting.\n",
    "\n",
    "**We'll compare these two types of posts to determine the following:**\n",
    "- Do `Ask HN` or `Show HN` receive more comments on average?\n",
    "- Do posts created at a certain time receive more comments on average?\n",
    "\n",
    "We will be working with a dataset that has Hacker News posts for 12 months up to September 2016, found [here](https://www.kaggle.com/datasets/hacker-news/hacker-news-posts), and placed in the local directory as `hacker_news.csv`.\n",
    "\n",
    "Below are descriptions of the columns:\n",
    "- `id`: the unique identifier from Hacker News for the post\n",
    "- `title`: the title of the post\n",
    "- `url`: the URL that the posts links to, if the post has a URL\n",
    "- `num_points`: the number of points the post acquired, calculated as the total number of upvotes minus the total number of downvotes\n",
    "- `num_comments`: the number of comments on the post\n",
    "- `author`: the username of the person who submitted the post\n",
    "- `created_at`: the date and time of the post's submission"
   ]
  },
  {
   "cell_type": "markdown",
   "id": "555ff004-6c79-4955-8467-c129be0bec6b",
   "metadata": {},
   "source": [
    "***\n",
    "We'll begin by reading in the `hacker_news.csv` as a list of lists."
   ]
  },
  {
   "cell_type": "code",
   "execution_count": 76,
   "id": "7f8006d3-1767-4a56-9744-97ef518db406",
   "metadata": {},
   "outputs": [
    {
     "name": "stdout",
     "output_type": "stream",
     "text": [
      "[['id', 'title', 'url', 'num_points', 'num_comments', 'author', 'created_at'], ['12579008', 'You have two days to comment if you want stem cells to be classified as your own', 'http://www.regulations.gov/document?D=FDA-2015-D-3719-0018', '1', '0', 'altstar', '9/26/2016 3:26'], ['12579005', 'SQLAR  the SQLite Archiver', 'https://www.sqlite.org/sqlar/doc/trunk/README.md', '1', '0', 'blacksqr', '9/26/2016 3:24'], ['12578997', 'What if we just printed a flatscreen television on the side of our boxes?', 'https://medium.com/vanmoof/our-secrets-out-f21c1f03fdc8#.ietxmez43', '1', '0', 'pavel_lishin', '9/26/2016 3:19'], ['12578989', 'algorithmic music', 'http://cacm.acm.org/magazines/2011/7/109891-algorithmic-composition/fulltext', '1', '0', 'poindontcare', '9/26/2016 3:16']]\n"
     ]
    }
   ],
   "source": [
    "from csv import reader\n",
    "opened_file = open('hacker_news.csv')\n",
    "read_file = reader(opened_file)\n",
    "hacker_news = list(read_file)\n",
    "\n",
    "print(hacker_news[:5])"
   ]
  },
  {
   "cell_type": "markdown",
   "id": "70d225ff-4b13-45f2-8627-aed6b7c7d15c",
   "metadata": {},
   "source": [
    "We will separate the column headers from the data:"
   ]
  },
  {
   "cell_type": "code",
   "execution_count": 77,
   "id": "f8605ac0-b71b-45e2-863b-8b6f030bdf5a",
   "metadata": {},
   "outputs": [
    {
     "name": "stdout",
     "output_type": "stream",
     "text": [
      "['id', 'title', 'url', 'num_points', 'num_comments', 'author', 'created_at']\n",
      "[['12579008', 'You have two days to comment if you want stem cells to be classified as your own', 'http://www.regulations.gov/document?D=FDA-2015-D-3719-0018', '1', '0', 'altstar', '9/26/2016 3:26'], ['12579005', 'SQLAR  the SQLite Archiver', 'https://www.sqlite.org/sqlar/doc/trunk/README.md', '1', '0', 'blacksqr', '9/26/2016 3:24'], ['12578997', 'What if we just printed a flatscreen television on the side of our boxes?', 'https://medium.com/vanmoof/our-secrets-out-f21c1f03fdc8#.ietxmez43', '1', '0', 'pavel_lishin', '9/26/2016 3:19'], ['12578989', 'algorithmic music', 'http://cacm.acm.org/magazines/2011/7/109891-algorithmic-composition/fulltext', '1', '0', 'poindontcare', '9/26/2016 3:16'], ['12578979', 'How the Data Vault Enables the Next-Gen Data Warehouse and Data Lake', 'https://www.talend.com/blog/2016/05/12/talend-and-Â\\x93the-data-vaultÂ\\x94', '1', '0', 'markgainor1', '9/26/2016 3:14']]\n"
     ]
    }
   ],
   "source": [
    "hn_headers = hacker_news[0]\n",
    "hn_data = hacker_news[1:]\n",
    "\n",
    "print(hn_headers)\n",
    "print(hn_data[:5])"
   ]
  },
  {
   "cell_type": "markdown",
   "id": "1c60a065-12bc-484f-ba2e-b2d779ee584f",
   "metadata": {},
   "source": [
    "***\n",
    "## Extracting `Ask HN` or `Show HN` Posts\n",
    "\n",
    "Since we're only concerned with post titles beginning with `Ask HN` or `Show HN`, we'll create new lists of lists containing just the data for those titles."
   ]
  },
  {
   "cell_type": "code",
   "execution_count": 78,
   "id": "a0c6d57d-d706-47f9-b45e-4507caebaec7",
   "metadata": {},
   "outputs": [],
   "source": [
    "ask_posts = []\n",
    "show_posts = []\n",
    "other_posts = []\n",
    "\n",
    "for row in hn_data:\n",
    "    title = row[1].lower()\n",
    "    if title.startswith('ask hn'):\n",
    "        ask_posts.append(row)\n",
    "    elif title.startswith('show hn'):\n",
    "        show_posts.append(row)\n",
    "    else:\n",
    "        other_posts.append(row)"
   ]
  },
  {
   "cell_type": "code",
   "execution_count": 79,
   "id": "376cf153-7d64-4bd0-b0a7-2d16f8b37f8d",
   "metadata": {},
   "outputs": [
    {
     "name": "stdout",
     "output_type": "stream",
     "text": [
      "[['12578908', 'Ask HN: What TLD do you use for local development?', '', '4', '7', 'Sevrene', '9/26/2016 2:53'], ['12578522', 'Ask HN: How do you pass on your work when you die?', '', '6', '3', 'PascLeRasc', '9/26/2016 1:17'], ['12577908', 'Ask HN: How a DNS problem can be limited to a geographic region?', '', '1', '0', 'kuon', '9/25/2016 22:57'], ['12577870', 'Ask HN: Why join a fund when you can be an angel?', '', '1', '3', 'anthony_james', '9/25/2016 22:48'], ['12577647', 'Ask HN: Someone uses stock trading as passive income?', '', '5', '2', '00taffe', '9/25/2016 21:50']]\n"
     ]
    }
   ],
   "source": [
    "print(ask_posts[:5])"
   ]
  },
  {
   "cell_type": "code",
   "execution_count": 80,
   "id": "c5f062ca-65dc-45c8-b1fd-d09909bcb41c",
   "metadata": {},
   "outputs": [
    {
     "name": "stdout",
     "output_type": "stream",
     "text": [
      "[['12578335', 'Show HN: Finding puns computationally', 'http://puns.samueltaylor.org/', '2', '0', 'saamm', '9/26/2016 0:36'], ['12578182', 'Show HN: A simple library for complicated animations', 'https://christinecha.github.io/choreographer-js/', '1', '0', 'christinecha', '9/26/2016 0:01'], ['12578098', 'Show HN: WebGL visualization of DNA sequences', 'http://grondilu.github.io/dna.html', '1', '0', 'grondilu', '9/25/2016 23:44'], ['12577991', 'Show HN: Pomodoro-centric, heirarchical project management with ES6 modules', 'https://github.com/jakebian/zeal', '2', '0', 'dbranes', '9/25/2016 23:17'], ['12577142', 'Show HN: Jumble  Essays on the go #PaulInYourPocket', 'https://itunes.apple.com/us/app/jumble-find-startup-essay/id1150939197?ls=1&mt=8', '1', '1', 'ryderj', '9/25/2016 20:06']]\n"
     ]
    }
   ],
   "source": [
    "print(show_posts[:5])"
   ]
  },
  {
   "cell_type": "markdown",
   "id": "2e69945a-f5a2-42e6-88f1-dc03955a89de",
   "metadata": {},
   "source": [
    "***\n",
    "## Calculating the Average Number of Comments\n",
    "\n",
    "Next, we want to determine the average number of comments each type of post receives on Hacker News."
   ]
  },
  {
   "cell_type": "code",
   "execution_count": 81,
   "id": "05c2e278-30e3-4fe0-b233-f7fb5371b7ad",
   "metadata": {},
   "outputs": [],
   "source": [
    "def find_average(dataset, index, n_digits = 2):\n",
    "    total = 0\n",
    "    length = len(dataset)\n",
    "    for row in dataset:\n",
    "        value = int(row[index])\n",
    "        total += value\n",
    "    return round(total / length, n_digits)"
   ]
  },
  {
   "cell_type": "code",
   "execution_count": 82,
   "id": "a8cd154e-d676-40e3-ae25-20510b5016d8",
   "metadata": {},
   "outputs": [
    {
     "name": "stdout",
     "output_type": "stream",
     "text": [
      "10.39\n"
     ]
    }
   ],
   "source": [
    "avg_ask_comments = find_average(ask_posts, 4)\n",
    "print(avg_ask_comments)"
   ]
  },
  {
   "cell_type": "code",
   "execution_count": 83,
   "id": "ad65f015-f77c-4ae6-af06-e88b212a605a",
   "metadata": {},
   "outputs": [
    {
     "name": "stdout",
     "output_type": "stream",
     "text": [
      "4.89\n"
     ]
    }
   ],
   "source": [
    "avg_show_comments = find_average(show_posts, 4)\n",
    "print(avg_show_comments)"
   ]
  },
  {
   "cell_type": "code",
   "execution_count": 84,
   "id": "e1216282-efc6-4ac7-9d3f-2a22573e0d39",
   "metadata": {},
   "outputs": [
    {
     "name": "stdout",
     "output_type": "stream",
     "text": [
      "6.46\n"
     ]
    }
   ],
   "source": [
    "avg_other_comments = find_average(other_posts, 4)\n",
    "print(avg_other_comments)"
   ]
  },
  {
   "cell_type": "markdown",
   "id": "ec56a393-53a2-4d86-a794-afc09c69548c",
   "metadata": {},
   "source": [
    "**On average, `Ask HN` posts receive over twice as many comments that `Show HN` posts receive.**"
   ]
  },
  {
   "cell_type": "markdown",
   "id": "cea1b6a7-a047-4c1c-9ab5-4e1a5198e731",
   "metadata": {},
   "source": [
    "***\n",
    "## Comments by Hour of Post Creation\n",
    "\n",
    "Next, we'll determine if posts created at a certain time are more likely to attract comments. We'll use the following steps to perform this analysis:\n",
    "- Calculate the number of posts created in each hour of the day, along with the number of comments received.\n",
    "- Calculate the average number of comments posts receive by hour created."
   ]
  },
  {
   "cell_type": "code",
   "execution_count": 85,
   "id": "30836a4a-7eb4-4dcf-bdd4-b7b0deeb3462",
   "metadata": {},
   "outputs": [],
   "source": [
    "import datetime as dt\n",
    "\n",
    "def create_post_by_hour_ft(posts_dataset, index_date):\n",
    "    posts_per_hour = {}\n",
    "    comments_per_hour = {}\n",
    "    for row in posts_dataset:\n",
    "        comments = int(row[4])\n",
    "        date = row[index_date]\n",
    "        date_dt = dt.datetime.strptime(date, \"%m/%d/%Y %H:%M\") # Create a datetime object from `created_at`\n",
    "        hour = date_dt.strftime(\"%H\") # Extract the hour from the datetime object\n",
    "        if hour in posts_per_hour:\n",
    "            posts_per_hour[hour] += 1\n",
    "        else:\n",
    "            posts_per_hour[hour] = 1\n",
    "        if hour in comments_per_hour:\n",
    "            comments_per_hour[hour] += comments\n",
    "        else:\n",
    "            comments_per_hour[hour] = comments\n",
    "    \n",
    "    return posts_per_hour, comments_per_hour"
   ]
  },
  {
   "cell_type": "code",
   "execution_count": 86,
   "id": "dee32362-1d6a-4753-9f39-2118550589f9",
   "metadata": {},
   "outputs": [
    {
     "name": "stdout",
     "output_type": "stream",
     "text": [
      "{'02': 269, '01': 282, '22': 383, '21': 518, '19': 552, '17': 587, '15': 646, '14': 513, '13': 444, '11': 312, '10': 282, '09': 222, '07': 226, '03': 271, '23': 343, '20': 510, '16': 579, '08': 257, '00': 301, '18': 614, '12': 342, '04': 243, '06': 234, '05': 209}\n",
      "\n",
      "\n",
      "{'02': 2996, '01': 2089, '22': 3372, '21': 4500, '19': 3954, '17': 5547, '15': 18525, '14': 4972, '13': 7245, '11': 2797, '10': 3013, '09': 1477, '07': 1585, '03': 2154, '23': 2297, '20': 4462, '16': 4466, '08': 2362, '00': 2277, '18': 4877, '12': 4234, '04': 2360, '06': 1587, '05': 1838}\n"
     ]
    }
   ],
   "source": [
    "ask_posts_ft, ask_comments_ft = create_post_by_hour_ft(ask_posts, -1)\n",
    "print(ask_posts_ft)\n",
    "print('\\n')\n",
    "print(ask_comments_ft)"
   ]
  },
  {
   "cell_type": "code",
   "execution_count": 87,
   "id": "4c92ae14-13f0-4986-97b2-6d475e5b7527",
   "metadata": {},
   "outputs": [
    {
     "name": "stdout",
     "output_type": "stream",
     "text": [
      "{'00': 276, '23': 319, '20': 525, '19': 556, '18': 656, '16': 801, '14': 696, '10': 323, '09': 302, '08': 316, '06': 192, '03': 206, '21': 430, '17': 761, '15': 836, '11': 402, '07': 236, '04': 194, '13': 610, '12': 516, '01': 247, '22': 377, '02': 209, '05': 172}\n",
      "\n",
      "\n",
      "{'00': 1283, '23': 1444, '20': 2183, '19': 2791, '18': 3242, '16': 3769, '14': 3839, '10': 1228, '09': 1411, '08': 1771, '06': 904, '03': 934, '21': 1759, '17': 3236, '15': 3824, '11': 2413, '07': 1577, '04': 978, '13': 3314, '12': 3609, '01': 1006, '22': 1450, '02': 1076, '05': 592}\n"
     ]
    }
   ],
   "source": [
    "show_posts_ft, show_comments_ft = create_post_by_hour_ft(show_posts, -1)\n",
    "print(show_posts_ft)\n",
    "print('\\n')\n",
    "print(show_comments_ft)"
   ]
  },
  {
   "cell_type": "markdown",
   "id": "01fc7c67-4b8d-4858-a5b9-f87b3fb0d540",
   "metadata": {},
   "source": [
    "We can use the following function to sort our frequency tables to make them more easily-readable:"
   ]
  },
  {
   "cell_type": "code",
   "execution_count": 88,
   "id": "cb98e513-4efd-4fd3-9d2e-75b026a137e0",
   "metadata": {},
   "outputs": [],
   "source": [
    "def sort_table(table, index_end = None):\n",
    "    if index_end == None:\n",
    "        index_end = len(table) - 1\n",
    "        \n",
    "    table_display = []\n",
    "    for key in table:\n",
    "        key_val_as_tuple = (table[key], key)\n",
    "        table_display.append(key_val_as_tuple)\n",
    "\n",
    "    table_sorted = sorted(table_display, reverse = True)\n",
    "    for entry in table_sorted[:index_end]:\n",
    "        print(entry[1], ':', entry[0])"
   ]
  },
  {
   "cell_type": "code",
   "execution_count": 89,
   "id": "11a93294-588d-4bb2-99d9-d25e6609b444",
   "metadata": {},
   "outputs": [
    {
     "name": "stdout",
     "output_type": "stream",
     "text": [
      "15 : 646\n",
      "18 : 614\n",
      "17 : 587\n",
      "16 : 579\n",
      "19 : 552\n"
     ]
    }
   ],
   "source": [
    "sort_table(ask_posts_ft, index_end = 5)"
   ]
  },
  {
   "cell_type": "code",
   "execution_count": 90,
   "id": "918b1db5-fafb-4ccc-9bdc-63cb229cd7de",
   "metadata": {},
   "outputs": [
    {
     "name": "stdout",
     "output_type": "stream",
     "text": [
      "15 : 18525\n",
      "13 : 7245\n",
      "17 : 5547\n",
      "14 : 4972\n",
      "18 : 4877\n"
     ]
    }
   ],
   "source": [
    "sort_table(ask_comments_ft, index_end = 5)"
   ]
  },
  {
   "cell_type": "code",
   "execution_count": 91,
   "id": "b3da721e-3431-4fff-9f92-1a36c4124d7a",
   "metadata": {},
   "outputs": [
    {
     "name": "stdout",
     "output_type": "stream",
     "text": [
      "15 : 836\n",
      "16 : 801\n",
      "17 : 761\n",
      "14 : 696\n",
      "18 : 656\n"
     ]
    }
   ],
   "source": [
    "sort_table(show_posts_ft, index_end = 5)"
   ]
  },
  {
   "cell_type": "code",
   "execution_count": 92,
   "id": "69eab704-d076-4c0b-b6cb-6ee1fca842cf",
   "metadata": {},
   "outputs": [
    {
     "name": "stdout",
     "output_type": "stream",
     "text": [
      "14 : 3839\n",
      "15 : 3824\n",
      "16 : 3769\n",
      "12 : 3609\n",
      "13 : 3314\n"
     ]
    }
   ],
   "source": [
    "sort_table(show_comments_ft, index_end = 5)"
   ]
  },
  {
   "cell_type": "markdown",
   "id": "640fdabf-83e9-40fa-8acc-a846c1ab24ae",
   "metadata": {},
   "source": [
    "***\n",
    "## Calculating the Average Number of Comments Per Hour\n",
    "\n",
    "While we now know the hours of the day in which most posts are submitted and when most comments are added, we would now want to know the average number of comments for each post per hour.\n",
    "\n",
    "This should provide us with insights regarding how active posts are at a given time."
   ]
  },
  {
   "cell_type": "code",
   "execution_count": 93,
   "id": "88b07507-be72-4072-8a11-282f7c983b98",
   "metadata": {},
   "outputs": [],
   "source": [
    "def find_average_comments_per_hour(posts_ft, comments_ft):\n",
    "    average_comments_per_hour = {}\n",
    "    for hour in posts_ft:\n",
    "        posts = posts_ft[hour]\n",
    "        comments = comments_ft[hour]\n",
    "        average_comments_per_hour[hour] = round(comments / posts, 2)\n",
    "    return average_comments_per_hour"
   ]
  },
  {
   "cell_type": "code",
   "execution_count": 94,
   "id": "c10cdda8-e883-47f2-a05c-57906bb050c8",
   "metadata": {},
   "outputs": [
    {
     "name": "stdout",
     "output_type": "stream",
     "text": [
      "15 : 28.68\n",
      "13 : 16.32\n",
      "12 : 12.38\n",
      "02 : 11.14\n",
      "10 : 10.68\n"
     ]
    }
   ],
   "source": [
    "ask_comments_per_hour = find_average_comments_per_hour(ask_posts_ft, ask_comments_ft)\n",
    "sort_table(ask_comments_per_hour, index_end = 5)"
   ]
  },
  {
   "cell_type": "code",
   "execution_count": 95,
   "id": "5013c2bc-c148-4751-940b-d15ece3f2b27",
   "metadata": {},
   "outputs": [
    {
     "name": "stdout",
     "output_type": "stream",
     "text": [
      "12 : 6.99\n",
      "07 : 6.68\n",
      "11 : 6.0\n",
      "08 : 5.6\n",
      "14 : 5.52\n"
     ]
    }
   ],
   "source": [
    "show_comments_per_hour = find_average_comments_per_hour(show_posts_ft, show_comments_ft)\n",
    "sort_table(show_comments_per_hour, index_end = 5)"
   ]
  },
  {
   "cell_type": "markdown",
   "id": "5b831f09-c33e-4d9e-be56-477f2d89f620",
   "metadata": {},
   "source": [
    "***\n",
    "## Insights and Analysis\n",
    "\n",
    "We can now recall our initial questions when working with this dataset:\n",
    "1. **Do `Ask HN` or `Show HN` receive more comments on average?**\n",
    "\n",
    "We discovered earlier on that `Ask HN` posts average over twice as many comments that `Show HN` posts do, with ~10 comments/post for `Ask HN` and ~5 comments/post for `Show HN` posts.\n",
    "\n",
    "This stands to reason as `Ask HN` posts are inherently asking for discussion and feedback, so we should expect that users will be providing comments and responses. On the other hand, `Show HN` posts do not ask for any feedback and only receives comments from users who are inclined to do so.\n",
    "\n",
    "2. **Do posts created at a certain time receive more comments on average?**\n",
    "\n",
    "With the last steps of this project, we determined the average amount of comments per post within each hour of the day.\n",
    "\n",
    "What we found was that for `Ask HN` posts, the most activity on these posts occurred in the afternoon between 12pm - 3pm ET, with a surprising outlier of activity occuring around 2am ET. The 3pm ET slot sees the most activity and this could be attributed to technology professionals coming to a slow-down in their workday on the East coast combined with the amount of users on the West coast coming into their lunch breaks.\n",
    "\n",
    "For `Show HN` posts, we found that the most activity occurred a bit more evenly, with the highest average number of comments per posts submitted between 11am and 12pm ET. There is also higher activity in the morning hours of 7am and 8am."
   ]
  },
  {
   "cell_type": "code",
   "execution_count": null,
   "id": "6c8f580e-0784-4bde-84ca-1d590279029a",
   "metadata": {},
   "outputs": [],
   "source": []
  }
 ],
 "metadata": {
  "kernelspec": {
   "display_name": "Python 3 (ipykernel)",
   "language": "python",
   "name": "python3"
  },
  "language_info": {
   "codemirror_mode": {
    "name": "ipython",
    "version": 3
   },
   "file_extension": ".py",
   "mimetype": "text/x-python",
   "name": "python",
   "nbconvert_exporter": "python",
   "pygments_lexer": "ipython3",
   "version": "3.10.9"
  }
 },
 "nbformat": 4,
 "nbformat_minor": 5
}
